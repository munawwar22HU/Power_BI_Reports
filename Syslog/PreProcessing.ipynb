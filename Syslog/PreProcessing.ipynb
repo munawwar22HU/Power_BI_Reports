{
 "cells": [
  {
   "cell_type": "markdown",
   "id": "199e7b55",
   "metadata": {},
   "source": [
    "Web Security"
   ]
  },
  {
   "cell_type": "code",
   "execution_count": 171,
   "id": "b94c7927",
   "metadata": {},
   "outputs": [
    {
     "data": {
      "text/plain": [
       "'\\nCEF Web Security Logs\\n\\ndeviceExternalId\\nrt\\napp\\ncnt\\ndpt\\nact\\nsrc\\ncs1Label\\ncs1\\ndeviceDirection\\ncat\\ndvchost\\nrequest\\nduser\\nshost\\ndeviceProcessName\\ncn3Label\\ncn3\\ndeviceFacility\\ncn2Label\\ncn2\\n'"
      ]
     },
     "execution_count": 171,
     "metadata": {},
     "output_type": "execute_result"
    }
   ],
   "source": [
    "\"\"\"\n",
    "CEF Web Security Logs\n",
    "\n",
    "deviceExternalId\n",
    "rt\n",
    "app\n",
    "cnt\n",
    "dpt\n",
    "act\n",
    "src\n",
    "cs1Label\n",
    "cs1\n",
    "deviceDirection\n",
    "cat\n",
    "dvchost\n",
    "request\n",
    "duser\n",
    "shost\n",
    "deviceProcessName\n",
    "cn3Label\n",
    "cn3\n",
    "deviceFacility\n",
    "cn2Label\n",
    "cn2\n",
    "\"\"\""
   ]
  },
  {
   "cell_type": "code",
   "execution_count": 172,
   "id": "828cc97a",
   "metadata": {},
   "outputs": [],
   "source": [
    "lines = r\"CEF:0|Trend Micro|Apex Central|2019|WB:36|36|3|deviceExternalId=5944 rt=Jul 14 2020 10:01:01 GMT+00:00 app=5 cnt=1 dpt=80 act=2 src=192.168.8.113 cs1Label=SLF_PolicyName cs1=Internal User Policy deviceDirection=2 cat=36 dvchost=CU-PRO1-1867-2 request=http:\\\\qaloqum.com\\update\\?x=ap=&cd=2XzuyEtN2Y1L1Qzu0EtBzy0DtAtCzyzytA0FtA0CtAtDtCtCtN0D0Tzu0StByBzzzztN1L2XzuyEtFyDyDtFtDtFzztAtN1L1CzutN1L1G1B1V1N2Y1L1Qzu2SyDtC0FtCyDzyzyzztGtA0B0FyBtG0BtC0D0EtGyDyEyCyBtGtAtA0CtAtC0A0DyDtCtB0DyE2QtN1M1F1B2Z1V1N2Y1L1Qzu2SyDyDyDzy1QtC1Q1StG1TtAtD1TtGyEyDyB1OtGzz1QtBtAtG1R1OtBzztD1T1OtB1OzztAyD2QtN0A0LzuyEtN1B2Z1V1T1S1NzutN1Q2Z1B1P1RzutCyDyCyCtAtDyByDzyzy&cr=127846655&aflt=crn_tpijpj79bdfhj2v43b2x_19_34_ssg00&os=win&arch=x86&nacl_arch=x86-64&prod=chromiumcrx&prodchannel=&pro duser=ASHRAF-SALES\\Muhammad Ashraf shost=ASHRAF-SALES deviceProcessName=C:\\Users\\Ashraf\\AppData\\Local\\chromium\\Application\\chrome.exe cn3Label=Web_Reputation_Rating cn3=49 deviceFacility=Apex One cn2Label=SLF_SeverityLevel cn2=100\"\n"
   ]
  },
  {
   "cell_type": "code",
   "execution_count": 173,
   "id": "a7c15af5",
   "metadata": {},
   "outputs": [],
   "source": [
    "data = lines.strip().split(\"|\")\n",
    "parseData = data[-1]\n"
   ]
  },
  {
   "cell_type": "code",
   "execution_count": 174,
   "id": "70d01e81",
   "metadata": {},
   "outputs": [],
   "source": [
    "IndexKeys = dict()\n",
    "IndexKeys[\"deviceExternalId=\"]  = parseData.find(\"deviceExternalId=\")\n",
    "IndexKeys[\"rt=\"] = parseData.find(\"rt=\")\n",
    "IndexKeys[\"app=\"] = parseData.find(\"app=\")\n",
    "IndexKeys[\"cnt=\"] = parseData.find(\"cnt=\")\n",
    "IndexKeys[\"dpt\"] = parseData.find(\"dpt\")\n",
    "IndexKeys[\"act\"] = parseData.find(\"act\")\n",
    "IndexKeys[\"src\"] = parseData.find(\"src\")\n",
    "IndexKeys[\"cs1Label\"] = parseData.find(\"cs1Label\")\n",
    "IndexKeys[\"cs1\"] = parseData.rfind(\"cs1\")\n",
    "IndexKeys[\"deviceDirection\"] = parseData.find(\"deviceDirection\")\n",
    "IndexKeys[\"request\"] = parseData.find(\"request\")\n",
    "IndexKeys[\"duser\"] = parseData.find(\"duser\")\n",
    "IndexKeys[\"shost\"] = parseData.find(\"shost\")\n",
    "IndexKeys[\"deviceProcessName\"] = parseData.find(\"deviceProcessName\")\n",
    "IndexKeys[\"cn3Label\"] = parseData.find(\"cn3Label\")\n",
    "IndexKeys[\"cn3\"] = parseData.rfind(\"cn3\")\n",
    "IndexKeys[\"deviceFacility\"] = parseData.find(\"deviceFacility\")\n",
    "IndexKeys[\"cn2Label\"] = parseData.find(\"cn2Label\")\n",
    "IndexKeys[\"cn2\"] = parseData.rfind(\"cn2\")\n"
   ]
  },
  {
   "cell_type": "code",
   "execution_count": 175,
   "id": "a83dbe78",
   "metadata": {},
   "outputs": [
    {
     "name": "stdout",
     "output_type": "stream",
     "text": [
      "{'deviceExternalId=': 0, 'rt=': 22, 'app=': 56, 'cnt=': 62, 'dpt': 68, 'act': 75, 'src': 81, 'cs1Label': 99, 'cs1': 123, 'deviceDirection': 148, 'request': 196, 'duser': 717, 'shost': 752, 'deviceProcessName': 771, 'cn3Label': 851, 'cn3': 882, 'deviceFacility': 889, 'cn2Label': 913, 'cn2': 940}\n"
     ]
    }
   ],
   "source": [
    "print(IndexKeys)"
   ]
  },
  {
   "cell_type": "code",
   "execution_count": 176,
   "id": "c5f38d80",
   "metadata": {},
   "outputs": [
    {
     "name": "stdout",
     "output_type": "stream",
     "text": [
      "deviceExternalId=5944\n",
      "rt=Jul 14 2020 10:01:01 GMT+00:00\n",
      "app=5\n",
      "cnt=1\n",
      "dpt=80\n",
      "act=2\n",
      "src=192.168.8.113\n",
      "cs1Label=SLF_PolicyName\n",
      "cs1=Internal User Policy\n",
      "deviceDirection=2 cat=36 dvchost=CU-PRO1-1867-2\n",
      "request=http:\\\\qaloqum.com\\update\\?x=ap=&cd=2XzuyEtN2Y1L1Qzu0EtBzy0DtAtCzyzytA0FtA0CtAtDtCtCtN0D0Tzu0StByBzzzztN1L2XzuyEtFyDyDtFtDtFzztAtN1L1CzutN1L1G1B1V1N2Y1L1Qzu2SyDtC0FtCyDzyzyzztGtA0B0FyBtG0BtC0D0EtGyDyEyCyBtGtAtA0CtAtC0A0DyDtCtB0DyE2QtN1M1F1B2Z1V1N2Y1L1Qzu2SyDyDyDzy1QtC1Q1StG1TtAtD1TtGyEyDyB1OtGzz1QtBtAtG1R1OtBzztD1T1OtB1OzztAyD2QtN0A0LzuyEtN1B2Z1V1T1S1NzutN1Q2Z1B1P1RzutCyDyCyCtAtDyByDzyzy&cr=127846655&aflt=crn_tpijpj79bdfhj2v43b2x_19_34_ssg00&os=win&arch=x86&nacl_arch=x86-64&prod=chromiumcrx&prodchannel=&pro\n",
      "duser=ASHRAF-SALES\\Muhammad Ashraf\n",
      "shost=ASHRAF-SALES\n",
      "deviceProcessName=C:\\Users\\Ashraf\\AppData\\Local\\chromium\\Application\\chrome.exe\n",
      "cn3Label=Web_Reputation_Rating\n",
      "cn3=49\n",
      "deviceFacility=Apex One\n",
      "cn2Label=SLF_SeverityLevel\n",
      "cn2=100\n"
     ]
    }
   ],
   "source": [
    "Indexes = list(IndexKeys.values())\n",
    "for i in range(1,len(Indexes)):\n",
    "    print(parseData[Indexes[i-1]:Indexes[i]].strip())\n",
    "print(parseData[Indexes[-1]:])"
   ]
  },
  {
   "cell_type": "code",
   "execution_count": null,
   "id": "b940faaa",
   "metadata": {},
   "outputs": [],
   "source": [
    "Device Access Control"
   ]
  },
  {
   "cell_type": "code",
   "execution_count": 177,
   "id": "945ea85d",
   "metadata": {},
   "outputs": [
    {
     "data": {
      "text/plain": [
       "'\\nCEF Device Access Control Logs\\n\\nrt\\ncs1Label\\ncs1\\nshost\\ndvchost\\ncn1Label\\ncn1\\ncn2Label\\ncn2\\ncn3Label\\ncn3\\ndeviceFacility\\n'"
      ]
     },
     "execution_count": 177,
     "metadata": {},
     "output_type": "execute_result"
    }
   ],
   "source": [
    "\"\"\"\n",
    "CEF Device Access Control Logs\n",
    "\n",
    "rt\n",
    "cs1Label\n",
    "cs1\n",
    "shost\n",
    "dvchost\n",
    "cn1Label\n",
    "cn1\n",
    "cn2Label\n",
    "cn2\n",
    "cn3Label\n",
    "cn3\n",
    "deviceFacility\n",
    "\"\"\""
   ]
  },
  {
   "cell_type": "code",
   "execution_count": 178,
   "id": "08911560",
   "metadata": {},
   "outputs": [],
   "source": [
    "lines =\"2020-07-14 15:34:02\tLocal0.Notice\t52.173.188.138\tJul 14 2020 15:34:03 yk9slu.manage.trendmicro.com CEF:0|Trend Micro|Apex Central|2019|700107|Device Access Control|3|rt=Jul 14 2020 10:21:00 GMT+00:00 cs1Label=Product_Entity/Endpoint cs1=Apex One as a Service shost=FARHANWALI-PC dvchost=CU-PRO1-1867-2 cn1Label=Product cn1=15 cn2Label=Device_Type cn2=1 cn3Label=Permission cn3=4 deviceFacility=Apex One \""
   ]
  },
  {
   "cell_type": "code",
   "execution_count": 179,
   "id": "9d60e843",
   "metadata": {},
   "outputs": [],
   "source": [
    "data  = lines.strip().split(\"|\")\n",
    "parseData  = data[-1]"
   ]
  },
  {
   "cell_type": "code",
   "execution_count": 180,
   "id": "c7b7571b",
   "metadata": {},
   "outputs": [],
   "source": [
    "IndexKeys  = dict()\n",
    "IndexKeys[\"rt\"] = parseData.find(\"rt\")\n",
    "IndexKeys[\"cs1Label\"] = parseData.find(\"cs1Label\")\n",
    "IndexKeys[\"cs1\"] =  parseData.rfind(\"cs1\")\n",
    "IndexKeys[\"shost\"] = parseData.find(\"shost\")\n",
    "IndexKeys[\"dvchost\"] = parseData.find(\"dvchost\")\n",
    "IndexKeys[\"cn1Label\"] = parseData.find(\"cn1Label\")\n",
    "IndexKeys[\"cn1\"] = parseData.rfind(\"cn1\")\n",
    "IndexKeys[\"cn2Label\"] = parseData.find(\"cn2Label\")\n",
    "IndexKeys[\"cn2\"] = parseData.rfind(\"cn2\")\n",
    "IndexKeys[\"cn3Label\"]=parseData.find(\"cn3Label\")\n",
    "IndexKeys[\"cn3\"] = parseData.rfind(\"cn3\")\n",
    "IndexKeys[\"deviceFacility\"] = parseData.find(\"deviceFacility\")"
   ]
  },
  {
   "cell_type": "code",
   "execution_count": 181,
   "id": "e2fcf24f",
   "metadata": {},
   "outputs": [
    {
     "name": "stdout",
     "output_type": "stream",
     "text": [
      "{'rt': 0, 'cs1Label': 34, 'cs1': 67, 'shost': 93, 'dvchost': 113, 'cn1Label': 136, 'cn1': 153, 'cn2Label': 160, 'cn2': 181, 'cn3Label': 187, 'cn3': 207, 'deviceFacility': 213}\n"
     ]
    }
   ],
   "source": [
    "print(IndexKeys)"
   ]
  },
  {
   "cell_type": "code",
   "execution_count": 182,
   "id": "f443a2a8",
   "metadata": {},
   "outputs": [
    {
     "name": "stdout",
     "output_type": "stream",
     "text": [
      "rt=Jul 14 2020 10:21:00 GMT+00:00\n",
      "cs1Label=Product_Entity/Endpoint\n",
      "cs1=Apex One as a Service\n",
      "shost=FARHANWALI-PC\n",
      "dvchost=CU-PRO1-1867-2\n",
      "cn1Label=Product\n",
      "cn1=15\n",
      "cn2Label=Device_Type\n",
      "cn2=1\n",
      "cn3Label=Permission\n",
      "cn3=4\n",
      "deviceFacility=Apex One\n"
     ]
    }
   ],
   "source": [
    "Indexes = list(IndexKeys.values())\n",
    "for i in range(1,len(Indexes)):\n",
    "    print(parseData[Indexes[i-1]:Indexes[i]].strip())\n",
    "print(parseData[Indexes[-1]:])"
   ]
  },
  {
   "cell_type": "markdown",
   "id": "663702b3",
   "metadata": {},
   "source": [
    "Spyware "
   ]
  },
  {
   "cell_type": "code",
   "execution_count": 183,
   "id": "2b646ba4",
   "metadata": {},
   "outputs": [
    {
     "data": {
      "text/plain": [
       "'\\nCEF Spyware/Grayware Logs\\n\\ndeviceExternalId\\nrt\\ncnt\\ndhost\\ncn1\\ncs1Label\\ncs1\\ncs2Label\\ncs2\\ncs5Label\\ncs5\\ncs6Label\\ncs6\\ncat\\ndvchost\\ndst\\ndeviceFacility\\nfileHash\\nduser\\ncn2Label\\ncn2\\ncn3Label\\ncn3\\n'"
      ]
     },
     "execution_count": 183,
     "metadata": {},
     "output_type": "execute_result"
    }
   ],
   "source": [
    "\"\"\"\n",
    "CEF Spyware/Grayware Logs\n",
    "\n",
    "deviceExternalId\n",
    "rt\n",
    "cnt\n",
    "dhost\n",
    "cn1\n",
    "cs1Label\n",
    "cs1\n",
    "cs2Label\n",
    "cs2\n",
    "cs5Label\n",
    "cs5\n",
    "cs6Label\n",
    "cs6\n",
    "cat\n",
    "dvchost\n",
    "dst\n",
    "deviceFacility\n",
    "fileHash\n",
    "duser\n",
    "cn2Label\n",
    "cn2\n",
    "cn3Label\n",
    "cn3\n",
    "\"\"\""
   ]
  },
  {
   "cell_type": "code",
   "execution_count": 184,
   "id": "5606aa0c",
   "metadata": {},
   "outputs": [],
   "source": [
    "lines=r\"2020-07-14 19:40:59\tLocal0.Notice\t52.173.188.138\tJul 14 2020 19:41:00 yk9slu.manage.trendmicro.com CEF:0|Trend Micro|Apex Central|2019|Spyware Detected|Spyware Detected|3|deviceExternalId=7360 rt=Jul 14 2020 14:38:12 GMT+00:00 cnt=1 dhost=AHMED cn1Label=PatternType cn1=1073741840 cs1Label=VirusName cs1=PUA.Win32.AutoKMS.AQJAF cs2Label=EngineVersion cs2=6.2.4035 cs5Label=ActionResult cs5=File cleaned cs6Label=PatternVersion cs6=2311 cat=1727 dvchost=CU-PRO1-1867-2 fname=C:\\Users\\Lenovo\\Downloads\\KMSAuto Lite Portable v1.3.1\\KMSAuto Lite Portable v1.3.1\\KMSAuto.exe filePath=C:\\Users\\Lenovo\\Downloads\\KMSAuto Lite Portable v1.3.1\\KMSAuto Lite Portable v1.3.1\\KMSAuto.exe dst=192.168.6.25 deviceFacility=Apex One fileHash=AA0E65BE68CD3B7369E5171570A25DA6C92A3AA8 duser=Lenovo cn2Label=Scan_Type cn2=13 cn3Label=Security_Threat_Type cn3=6 \""
   ]
  },
  {
   "cell_type": "code",
   "execution_count": 185,
   "id": "bbccc1e9",
   "metadata": {},
   "outputs": [],
   "source": [
    "data  = lines.strip().split(\"|\")\n",
    "parseData  = data[-1]"
   ]
  },
  {
   "cell_type": "code",
   "execution_count": 186,
   "id": "499c8633",
   "metadata": {},
   "outputs": [],
   "source": [
    "IndexKeys = dict()\n",
    "IndexKeys[\"deviceExternalId\"]  = parseData.find(\"deviceExternalId\")\n",
    "IndexKeys[\"rt\"]  = parseData.find(\"rt\")\n",
    "IndexKeys[\"cnt\"] = parseData.find(\"cnt\")\n",
    "IndexKeys[\"dhost\"] = parseData.find(\"dhost\")\n",
    "IndexKeys[\"cn1\"] = parseData.find(\"cn1\")\n",
    "IndexKeys[\"cs1Label\"] = parseData.find(\"cs1Label\")\n",
    "IndexKeys[\"cs1\"] = parseData.rfind(\"cs1\")\n",
    "IndexKeys[\"cs2Label\"] = parseData.find(\"cs2Label\")\n",
    "IndexKeys[\"cs2\"] = parseData.rfind(\"cs2\")\n",
    "IndexKeys[\"cs5Label\"] = parseData.find(\"cs5Label\")\n",
    "IndexKeys[\"cs5\"] = parseData.rfind(\"cs5\")\n",
    "IndexKeys[\"cs6Label\"]=parseData.find(\"cs6Label\")\n",
    "IndexKeys[\"cs6\"]=parseData.rfind(\"cs6\")\n",
    "IndexKeys[\"cat\"]=parseData.find(\"cat\")\n",
    "IndexKeys[\"dvchost\"]=parseData.find(\"dvchost\")\n",
    "IndexKeys[\"dst\"]=parseData.find(\"dst\")\n",
    "IndexKeys[\"deviceFacility\"]=parseData.find(\"deviceFacility\")\n",
    "IndexKeys[\"fileHash\"]=parseData.find(\"fileHash\")\n",
    "IndexKeys[\"duser\"]=parseData.find(\"duser\")\n",
    "IndexKeys[\"cn2Label\"]=parseData.find(\"cn2Label\")\n",
    "IndexKeys[\"cn2\"]=parseData.rfind(\"cn2\")\n",
    "IndexKeys[\"cn3Label\"]=parseData.find(\"cn3Label\")\n",
    "IndexKeys[\"cn3\"]=parseData.rfind(\"cn3\")"
   ]
  },
  {
   "cell_type": "code",
   "execution_count": 187,
   "id": "43cf7133",
   "metadata": {},
   "outputs": [
    {
     "name": "stdout",
     "output_type": "stream",
     "text": [
      "{'deviceExternalId': 0, 'rt': 22, 'cnt': 56, 'dhost': 62, 'cn1': 74, 'cs1Label': 110, 'cs1': 129, 'cs2Label': 157, 'cs2': 180, 'cs5Label': 193, 'cs5': 215, 'cs6Label': 232, 'cs6': 256, 'cat': 265, 'dvchost': 274, 'dst': 504, 'deviceFacility': 521, 'fileHash': 545, 'duser': 595, 'cn2Label': 608, 'cn2': 627, 'cn3Label': 634, 'cn3': 664}\n"
     ]
    }
   ],
   "source": [
    "print(IndexKeys)\n",
    "Indexes = list(IndexKeys.values())"
   ]
  },
  {
   "cell_type": "code",
   "execution_count": 188,
   "id": "011abfab",
   "metadata": {},
   "outputs": [
    {
     "name": "stdout",
     "output_type": "stream",
     "text": [
      "deviceExternalId=7360\n",
      "rt=Jul 14 2020 14:38:12 GMT+00:00\n",
      "cnt=1\n",
      "dhost=AHMED\n",
      "cn1Label=PatternType cn1=1073741840\n",
      "cs1Label=VirusName\n",
      "cs1=PUA.Win32.AutoKMS.AQJAF\n",
      "cs2Label=EngineVersion\n",
      "cs2=6.2.4035\n",
      "cs5Label=ActionResult\n",
      "cs5=File cleaned\n",
      "cs6Label=PatternVersion\n",
      "cs6=2311\n",
      "cat=1727\n",
      "dvchost=CU-PRO1-1867-2 fname=C:\\Users\\Lenovo\\Downloads\\KMSAuto Lite Portable v1.3.1\\KMSAuto Lite Portable v1.3.1\\KMSAuto.exe filePath=C:\\Users\\Lenovo\\Downloads\\KMSAuto Lite Portable v1.3.1\\KMSAuto Lite Portable v1.3.1\\KMSAuto.exe\n",
      "dst=192.168.6.25\n",
      "deviceFacility=Apex One\n",
      "fileHash=AA0E65BE68CD3B7369E5171570A25DA6C92A3AA8\n",
      "duser=Lenovo\n",
      "cn2Label=Scan_Type\n",
      "cn2=13\n",
      "cn3Label=Security_Threat_Type\n",
      "cn3=6\n"
     ]
    }
   ],
   "source": [
    "for i in range(1,len(Indexes)):\n",
    "    print(parseData[Indexes[i-1]:Indexes[i]].strip())\n",
    "print(parseData[Indexes[-1]:])"
   ]
  },
  {
   "cell_type": "markdown",
   "id": "60f9804e",
   "metadata": {},
   "source": [
    "C&C Callback"
   ]
  },
  {
   "cell_type": "code",
   "execution_count": 189,
   "id": "4ae9fbb2",
   "metadata": {},
   "outputs": [
    {
     "data": {
      "text/plain": [
       "'\\nC&C Callback Logs\\ndeviceExternalId\\nrt\\ndeviceFacility\\ncs2Label\\ncs2\\nshost\\nsrc\\ncs3Label\\ncs3\\nact\\ncn1Label\\ncn1\\ncn2Label\\ncn2\\ncn3Label\\ncn3\\ndst\\ndeviceProcessName\\ndvchost\\n'"
      ]
     },
     "execution_count": 189,
     "metadata": {},
     "output_type": "execute_result"
    }
   ],
   "source": [
    "\"\"\"\n",
    "C&C Callback Logs\n",
    "deviceExternalId\n",
    "rt\n",
    "deviceFacility\n",
    "cs2Label\n",
    "cs2\n",
    "shost\n",
    "src\n",
    "cs3Label\n",
    "cs3\n",
    "act\n",
    "cn1Label\n",
    "cn1\n",
    "cn2Label\n",
    "cn2\n",
    "cn3Label\n",
    "cn3\n",
    "dst\n",
    "deviceProcessName\n",
    "dvchost\n",
    "\"\"\""
   ]
  },
  {
   "cell_type": "code",
   "execution_count": 190,
   "id": "e8e7eee7",
   "metadata": {},
   "outputs": [],
   "source": [
    "lines=\"2020-07-14 17:40:33\tLocal0.Notice\t52.173.188.138\tJul 14 2020 17:40:34 yk9slu.manage.trendmicro.com CEF:0|Trend Micro|Apex Central|2019|CnC:Block|CnC Callback|3|deviceExternalId=5352 rt=Jul 14 2020 12:39:23 GMT+00:00 cat=1756 deviceFacility=Apex One cs2Label=EI_ProductVersion cs2=14.0 shost=WAHABAKRAM-PC src=192.168.8.101 cs3Label=SLF_DomainName cs3=Workgroup act=Block cn1Label=SLF_CCCA_RiskLevel cn1=3 cn2Label=SLF_CCCA_DetectionSource cn2=1 cn3Label=SLF_CCCA_DestinationFormat cn3=1 dst=192.168.8.103 deviceProcessName=System dvchost=CU-PRO1-1867-2\""
   ]
  },
  {
   "cell_type": "code",
   "execution_count": 191,
   "id": "a6452fae",
   "metadata": {},
   "outputs": [],
   "source": [
    "data  = lines.strip().split(\"|\")\n",
    "parseData  = data[-1]"
   ]
  },
  {
   "cell_type": "code",
   "execution_count": 192,
   "id": "1c29ba71",
   "metadata": {},
   "outputs": [],
   "source": [
    "IndexKeys = dict()\n",
    "IndexKeys[\"deviceExternalId\"]=parseData.find(\"deviceExternalId\")\n",
    "IndexKeys[\"rt\"]=parseData.find(\"rt\")\n",
    "IndexKeys[\"cat\"]=parseData.find(\"cat\")\n",
    "IndexKeys[\"deviceFacility\"]=parseData.find(\"deviceFacility\")\n",
    "IndexKeys[\"cs2Label\"]=parseData.find(\"cs2Label\")\n",
    "IndexKeys[\"cs2\"]=parseData.rfind(\"cs2\")\n",
    "IndexKeys[\"shost\"] = parseData.find(\"shost\")\n",
    "IndexKeys[\"src\"]=parseData.find(\"src\")\n",
    "IndexKeys[\"cs3Label\"]=parseData.find(\"cs3Label\")\n",
    "IndexKeys[\"cs3\"]=parseData.rfind(\"cs3\")\n",
    "IndexKeys[\"act\"]=parseData.find(\"act\")\n",
    "IndexKeys[\"cn1Label\"]=parseData.find(\"cn1Label\")\n",
    "IndexKeys[\"cn1\"]=parseData.rfind(\"cn1\")\n",
    "IndexKeys[\"cn2Label\"]=parseData.find(\"cn2Label\")\n",
    "IndexKeys[\"cn2\"]=parseData.rfind(\"cn2\")\n",
    "IndexKeys[\"cn3Label\"]=parseData.find(\"cn3Label\")\n",
    "IndexKeys[\"cn3\"]=parseData.rfind(\"cn3\")\n",
    "IndexKeys[\"dst\"]=parseData.find(\"dst\")\n",
    "IndexKeys[\"deviceProcessName\"]=parseData.find(\"deviceProcessName\")\n",
    "IndexKeys[\"dvchost\"]=parseData.find(\"dvchost\")\n"
   ]
  },
  {
   "cell_type": "code",
   "execution_count": 193,
   "id": "1ff48b47",
   "metadata": {},
   "outputs": [
    {
     "name": "stdout",
     "output_type": "stream",
     "text": [
      "{'deviceExternalId': 0, 'rt': 22, 'cat': 56, 'deviceFacility': 65, 'cs2Label': 89, 'cs2': 116, 'shost': 125, 'src': 145, 'cs3Label': 163, 'cs3': 187, 'act': 201, 'cn1Label': 211, 'cn1': 239, 'cn2Label': 245, 'cn2': 279, 'cn3Label': 285, 'cn3': 321, 'dst': 327, 'deviceProcessName': 345, 'dvchost': 370}\n"
     ]
    }
   ],
   "source": [
    "print(IndexKeys)\n",
    "Indexes = list(IndexKeys.values())"
   ]
  },
  {
   "cell_type": "code",
   "execution_count": 194,
   "id": "7b8f4c1e",
   "metadata": {},
   "outputs": [
    {
     "name": "stdout",
     "output_type": "stream",
     "text": [
      "deviceExternalId=5352\n",
      "rt=Jul 14 2020 12:39:23 GMT+00:00\n",
      "cat=1756\n",
      "deviceFacility=Apex One\n",
      "cs2Label=EI_ProductVersion\n",
      "cs2=14.0\n",
      "shost=WAHABAKRAM-PC\n",
      "src=192.168.8.101\n",
      "cs3Label=SLF_DomainName\n",
      "cs3=Workgroup\n",
      "act=Block\n",
      "cn1Label=SLF_CCCA_RiskLevel\n",
      "cn1=3\n",
      "cn2Label=SLF_CCCA_DetectionSource\n",
      "cn2=1\n",
      "cn3Label=SLF_CCCA_DestinationFormat\n",
      "cn3=1\n",
      "dst=192.168.8.103\n",
      "deviceProcessName=System\n",
      "dvchost=CU-PRO1-1867-2\n"
     ]
    }
   ],
   "source": [
    "for i in range(1,len(Indexes)):\n",
    "    print(parseData[Indexes[i-1]:Indexes[i]].strip())\n",
    "\n",
    "print(parseData[Indexes[-1]:])"
   ]
  },
  {
   "cell_type": "code",
   "execution_count": null,
   "id": "aa9f5559",
   "metadata": {},
   "outputs": [],
   "source": [
    "Behaviour Monitoring"
   ]
  },
  {
   "cell_type": "code",
   "execution_count": 195,
   "id": "3990f020",
   "metadata": {},
   "outputs": [
    {
     "data": {
      "text/plain": [
       "'\\nCEF Behavior Monitoring Logs\\nrt\\ndvchost\\ncs5Label\\ncs5\\ncs2Label\\ncs2\\nsproc\\ncs3Label\\ncs3\\ncs1Label\\ncs1\\nact\\ncs4Label\\ncs4\\nshost\\nsrc\\ndeviceFacility\\n'"
      ]
     },
     "execution_count": 195,
     "metadata": {},
     "output_type": "execute_result"
    }
   ],
   "source": [
    "\"\"\"\n",
    "CEF Behavior Monitoring Logs\n",
    "rt\n",
    "dvchost\n",
    "cs5Label\n",
    "cs5\n",
    "cs2Label\n",
    "cs2\n",
    "sproc\n",
    "cs3Label\n",
    "cs3\n",
    "cs1Label\n",
    "cs1\n",
    "act\n",
    "cs4Label\n",
    "cs4\n",
    "shost\n",
    "src\n",
    "deviceFacility\n",
    "\"\"\""
   ]
  },
  {
   "cell_type": "code",
   "execution_count": 196,
   "id": "685991ef",
   "metadata": {},
   "outputs": [],
   "source": [
    "lines=\"2020-07-15 14:43:56\tLocal0.Notice\t52.173.188.138\tJul 15 2020 14:43:57 yk9slu.manage.trendmicro.com CEF:0|Trend Micro|Apex Central|2019|BM:3|Behavior Monitoring|3|rt=Jul 15 2020 08:45:18 GMT+00:00 dvchost=CU-PRO1-1867-2 cs5Label=Risk_Level cs5=0 cs2Label=Policy cs2=3 sproc=C:\\\\Windows\\\\SECOH-QAD.exe cs3Label=Event_Type cs3=64 cs1Label=Target cs1=ZwWriteVirtualMemory act=2 cs4Label=Operation cs4=501 shost=KHAN src=192.168.1.145 deviceFacility=Apex One\""
   ]
  },
  {
   "cell_type": "code",
   "execution_count": null,
   "id": "25090020",
   "metadata": {},
   "outputs": [],
   "source": [
    "data = lines.split(\"|\")\n",
    "parseData = data[-1]"
   ]
  },
  {
   "cell_type": "code",
   "execution_count": null,
   "id": "daabd4ca",
   "metadata": {},
   "outputs": [],
   "source": [
    "IndexKeys = dict()\n",
    "IndexKeys[\"rt\"]=parseData.find(\"rt\")\n",
    "IndexKeys[\"dvchost\"] = parseData.find(\"dvchost\")\n",
    "IndexKeys[\"cs5Label\"] = parseData.find(\"cs5Label\")\n",
    "IndexKeys[\"cs5\"]=parseData.rfind(\"cs5\")\n",
    "IndexKeys[\"cs2Label\"]=parseData.find(\"cs2Label\")\n",
    "IndexKeys[\"cs2\"]=parseData.rfind(\"cs2\")\n",
    "IndexKeys[\"sproc\"]=parseData.find(\"sproc\")\n",
    "IndexKeys[\"cs3Label\"]=parseData.find(\"cs3Label\")\n",
    "IndexKeys[\"cs3\"]=parseData.rfind(\"cs3\")\n",
    "IndexKeys[\"cs1Label\"]=parseData.find(\"cs1Label\")\n",
    "IndexKeys[\"cs1\"]=parseData.rfind(\"cs1\")\n",
    "IndexKeys[\"act\"]=parseData.find(\"act\")\n",
    "IndexKeys[\"cs4Label\"]=parseData.find(\"cs4Label\")\n",
    "IndexKeys[\"cs4\"]=parseData.rfind(\"cs4\")\n",
    "IndexKeys[\"shost\"]=parseData.find(\"shost\")\n",
    "IndexKeys[\"src\"]=parseData.find(\"src\")\n",
    "IndexKeys[\"deviceFacility\"]=parseData.find(\"deviceFacility\")\n",
    "\n",
    "\n",
    "\n",
    "\n",
    "\n"
   ]
  },
  {
   "cell_type": "code",
   "execution_count": 198,
   "id": "0fcc6ed2",
   "metadata": {},
   "outputs": [
    {
     "name": "stdout",
     "output_type": "stream",
     "text": [
      "{'deviceExternalId': 0, 'rt': 22, 'cat': 56, 'deviceFacility': 65, 'cs2Label': 89, 'cs2': 116, 'shost': 125, 'src': 145, 'cs3Label': 163, 'cs3': 187, 'act': 201, 'cn1Label': 211, 'cn1': 239, 'cn2Label': 245, 'cn2': 279, 'cn3Label': 285, 'cn3': 321, 'dst': 327, 'deviceProcessName': 345, 'dvchost': 370}\n"
     ]
    }
   ],
   "source": [
    "print(IndexKeys)\n",
    "Indexes = list(IndexKeys.values())"
   ]
  },
  {
   "cell_type": "code",
   "execution_count": 199,
   "id": "561ad11c",
   "metadata": {},
   "outputs": [
    {
     "name": "stdout",
     "output_type": "stream",
     "text": [
      "deviceExternalId=5352\n",
      "rt=Jul 14 2020 12:39:23 GMT+00:00\n",
      "cat=1756\n",
      "deviceFacility=Apex One\n",
      "cs2Label=EI_ProductVersion\n",
      "cs2=14.0\n",
      "shost=WAHABAKRAM-PC\n",
      "src=192.168.8.101\n",
      "cs3Label=SLF_DomainName\n",
      "cs3=Workgroup\n",
      "act=Block\n",
      "cn1Label=SLF_CCCA_RiskLevel\n",
      "cn1=3\n",
      "cn2Label=SLF_CCCA_DetectionSource\n",
      "cn2=1\n",
      "cn3Label=SLF_CCCA_DestinationFormat\n",
      "cn3=1\n",
      "dst=192.168.8.103\n",
      "deviceProcessName=System\n",
      "dvchost=CU-PRO1-1867-2\n"
     ]
    }
   ],
   "source": [
    "for i in range(1,len(Indexes)):\n",
    "    print(parseData[Indexes[i-1]:Indexes[i]].strip())\n",
    "\n",
    "print(parseData[Indexes[-1]:])"
   ]
  },
  {
   "cell_type": "code",
   "execution_count": null,
   "id": "94e03f77",
   "metadata": {},
   "outputs": [],
   "source": [
    "Virus/Malware"
   ]
  },
  {
   "cell_type": "code",
   "execution_count": null,
   "id": "116b5dcb",
   "metadata": {},
   "outputs": [],
   "source": [
    "\"\"\"\n",
    "CEF Virus/Malware Logs\n",
    "deviceExternalId\n",
    "rt\n",
    "cnt\n",
    "dhost\n",
    "act\n",
    "cn1Label\n",
    "cn1\n",
    "cn2Label\n",
    "cn2\n",
    "cs1Label\n",
    "cs1\n",
    "cs2Label\n",
    "cs2\n",
    "cs3Label\n",
    "cs3\n",
    "cs4Label\n",
    "cs4\n",
    "cs5Label\n",
    "cs5\n",
    "cs6Label\n",
    "cs6\n",
    "dvchost\n",
    "cn3Label\n",
    "cn3\n",
    "fname\n",
    "filepath\n",
    "dst\n",
    "fileHash\n",
    "deviceFacility\n",
    "\"\"\""
   ]
  },
  {
   "cell_type": "code",
   "execution_count": 200,
   "id": "38134e0a",
   "metadata": {},
   "outputs": [],
   "source": [
    "lines = \"2020-07-15 10:22:51\tLocal0.Notice\t52.173.188.138\tJul 15 2020 10:22:52 yk9slu.manage.trendmicro.com CEF:0|Trend Micro|Apex Central|2019|AV:File cleaned|TROJ_GEN.R002C0WGF20|3|deviceExternalId=3856 rt=Jul 15 2020 05:19:32 GMT+00:00 cnt=1 dhost=AHMED act=File cleaned cn1Label=VLF_PatternNumber cn1=1598700 cn2Label=VLF_SecondAction cn2=1 cs1Label=VLF_FunctionCode cs1=Real-time Scan cs2Label=VLF_EngineVersion cs2=12.200.1019 cs3Label=CLF_ProductVersion cs3=14.0 cs4Label=CLF_ReasonCode cs4=virus log cs5Label=VLF_FirstActionResult cs5=File cleaned cs6Label=VLF_SecondActionResult cs6=N/A cat=1703 dvchost=CU-PRO1-1867-2 cn3Label=CLF_ServerityCode cn3=2 fname=Riched32.dll filePath=C:\\\\Windows\\\\SysWOW64\\\\pt-BR\\\\S-1-4-82\\\\ dst=192.168.6.25 fileHash=6C0803443AD17C0C13FEC890D897239E428F3B7B deviceFacility=Apex One \""
   ]
  },
  {
   "cell_type": "code",
   "execution_count": 201,
   "id": "90ebde75",
   "metadata": {},
   "outputs": [],
   "source": [
    "data = lines.split(\"|\")\n",
    "parseData = data[-1]"
   ]
  },
  {
   "cell_type": "code",
   "execution_count": 209,
   "id": "36e8edf3",
   "metadata": {},
   "outputs": [],
   "source": [
    "IndexKeys = dict()\n",
    "IndexKeys[\"deviceExternalId\"]=parseData.find(\"deviceExternalId\")\n",
    "IndexKeys[\"rt\"]=parseData.find(\"rt\")\n",
    "IndexKeys[\"cnt\"]=parseData.find(\"cnt\")\n",
    "IndexKeys[\"dhost\"]=parseData.find(\"dhost\")\n",
    "IndexKeys[\"act\"]=parseData.find(\"act\")\n",
    "IndexKeys[\"cn1Label\"]=parseData.find(\"cn1Label\")\n",
    "IndexKeys[\"cn1\"]=parseData.rfind(\"cn1\")\n",
    "IndexKeys[\"cn2Label\"]=parseData.find(\"cn2Label\")\n",
    "IndexKeys[\"cn2\"]=parseData.rfind(\"cn2\")\n",
    "IndexKeys[\"cs1Label\"]=parseData.find(\"cs1Label\")\n",
    "IndexKeys[\"cs1\"]=parseData.rfind(\"cs1\")\n",
    "IndexKeys[\"cs2Label\"]=parseData.find(\"cs2Label\")\n",
    "IndexKeys[\"cs2\"]=parseData.rfind(\"cs2\")\n",
    "IndexKeys[\"cs3Label\"]=parseData.find(\"cs3Label\")\n",
    "IndexKeys[\"cs3\"]=parseData.rfind(\"cs3\")\n",
    "IndexKeys[\"cs4Label\"]=parseData.find(\"cs4Label\")\n",
    "IndexKeys[\"cs4\"]=parseData.rfind(\"cs4\")\n",
    "IndexKeys[\"cs5Label\"]=parseData.find(\"cs5Label\")\n",
    "IndexKeys[\"cs5\"]=parseData.rfind(\"cs5\")\n",
    "IndexKeys[\"cs6Label\"]=parseData.find(\"cs6Label\")\n",
    "IndexKeys[\"cs6\"]=parseData.rfind(\"cs6\")\n",
    "IndexKeys[\"dvchost\"]=parseData.find(\"dvchost\")\n",
    "IndexKeys[\"cn3Label\"]=parseData.find(\"cn3Label\")\n",
    "IndexKeys[\"cn3\"]=parseData.rfind(\"cn3\")\n",
    "IndexKeys[\"fname\"]=parseData.find(\"fname\")\n",
    "IndexKeys[\"filePath\"]=parseData.find(\"filePath\")\n",
    "IndexKeys[\"dst\"]=parseData.find(\"dst\")\n",
    "IndexKeys[\"fileHash\"]=parseData.find(\"fileHash\")\n",
    "IndexKeys[\"deviceFacility\"]=parseData.find(\"deviceFacility\")\n"
   ]
  },
  {
   "cell_type": "code",
   "execution_count": 211,
   "id": "42b2ecf8",
   "metadata": {},
   "outputs": [
    {
     "name": "stdout",
     "output_type": "stream",
     "text": [
      "{'deviceExternalId': 0, 'rt': 22, 'cnt': 56, 'dhost': 62, 'act': 74, 'cn1Label': 91, 'cn1': 118, 'cn2Label': 130, 'cn2': 156, 'cs1Label': 162, 'cs1': 188, 'cs2Label': 207, 'cs2': 234, 'cs3Label': 250, 'cs3': 278, 'cs4Label': 287, 'cs4': 311, 'cs5Label': 325, 'cs5': 356, 'cs6Label': 373, 'cs6': 405, 'dvchost': 422, 'cn3Label': 445, 'cn3': 472, 'fname': 478, 'filePath': 497, 'dst': 542, 'fileHash': 559, 'deviceFacility': 609}\n"
     ]
    }
   ],
   "source": [
    "print(IndexKeys)\n",
    "Indexes = list(IndexKeys.values())"
   ]
  },
  {
   "cell_type": "code",
   "execution_count": 212,
   "id": "7cedfd90",
   "metadata": {},
   "outputs": [
    {
     "name": "stdout",
     "output_type": "stream",
     "text": [
      "deviceExternalId=3856\n",
      "rt=Jul 15 2020 05:19:32 GMT+00:00\n",
      "cnt=1\n",
      "dhost=AHMED\n",
      "act=File cleaned\n",
      "cn1Label=VLF_PatternNumber\n",
      "cn1=1598700\n",
      "cn2Label=VLF_SecondAction\n",
      "cn2=1\n",
      "cs1Label=VLF_FunctionCode\n",
      "cs1=Real-time Scan\n",
      "cs2Label=VLF_EngineVersion\n",
      "cs2=12.200.1019\n",
      "cs3Label=CLF_ProductVersion\n",
      "cs3=14.0\n",
      "cs4Label=CLF_ReasonCode\n",
      "cs4=virus log\n",
      "cs5Label=VLF_FirstActionResult\n",
      "cs5=File cleaned\n",
      "cs6Label=VLF_SecondActionResult\n",
      "cs6=N/A cat=1703\n",
      "dvchost=CU-PRO1-1867-2\n",
      "cn3Label=CLF_ServerityCode\n",
      "cn3=2\n",
      "fname=Riched32.dll\n",
      "filePath=C:\\Windows\\SysWOW64\\pt-BR\\S-1-4-82\\\n",
      "dst=192.168.6.25\n",
      "fileHash=6C0803443AD17C0C13FEC890D897239E428F3B7B\n",
      "deviceFacility=Apex One \n"
     ]
    }
   ],
   "source": [
    "for i in range(1,len(Indexes)):\n",
    "    print(parseData[Indexes[i-1]:Indexes[i]].strip())\n",
    "\n",
    "print(parseData[Indexes[-1]:])"
   ]
  },
  {
   "cell_type": "code",
   "execution_count": null,
   "id": "5c08034b",
   "metadata": {},
   "outputs": [],
   "source": [
    "CEF Network Content Inspection Logs"
   ]
  },
  {
   "cell_type": "code",
   "execution_count": null,
   "id": "eee14fac",
   "metadata": {},
   "outputs": [],
   "source": [
    "\"\"\"\n",
    "CEF Network Content Inspection Logs\n",
    "\n",
    "deviceExternalId\n",
    "rt\n",
    "cat\n",
    "deviceFacility\n",
    "deviceProcessName\n",
    "act\n",
    "src\n",
    "dst\n",
    "spt\n",
    "dpt\n",
    "deviceDirection\n",
    "cn1Label\n",
    "cn1\n",
    "cs2Label\n",
    "cs2\n",
    "dvchost\n",
    "reason\n",
    "\n",
    "\"\"\""
   ]
  },
  {
   "cell_type": "code",
   "execution_count": 213,
   "id": "50d3c4e4",
   "metadata": {},
   "outputs": [],
   "source": [
    "lines = \"2020-07-14 17:40:33\tLocal0.Notice\t52.173.188.138\tJul 14 2020 17:40:34 yk9slu.manage.trendmicro.com CEF:0|Trend Micro|Apex Central|2019|NCIE:Block|Suspicious Connection|3|deviceExternalId=5352 rt=Jul 14 2020 12:39:23 GMT+00:00 cat=1756 deviceFacility=Apex One deviceProcessName=System act=Block src=192.168.8.101 dst=192.168.8.103 spt=445 dpt=52763 deviceDirection=Inbound cn1Label=SLF_PatternType cn1=1 cs2Label=NCIE_ThreatName cs2=MS17-010-SMB_REMOTE_CODE_EXECUTION_EXPLOIT_NC_ dvchost=CU-PRO1-1867-2 reason=F \""
   ]
  },
  {
   "cell_type": "code",
   "execution_count": 214,
   "id": "87d30bec",
   "metadata": {},
   "outputs": [],
   "source": [
    "data = lines.strip().split(\"|\")\n",
    "parseData=data[-1]"
   ]
  },
  {
   "cell_type": "code",
   "execution_count": 217,
   "id": "d563dba3",
   "metadata": {},
   "outputs": [],
   "source": [
    "IndexKey = dict()\n",
    "IndexKey[\"deviceExternalId\"]=parseData.find(\"deviceExternalId\")\n",
    "IndexKey[\"rt\"]=parseData.find(\"rt\")\n",
    "IndexKey[\"cat\"]=parseData.find(\"cat\")\n",
    "IndexKey[\"deviceFacility\"]=parseData.find(\"deviceFacility\")\n",
    "IndexKey[\"deviceProcessName\"]=parseData.find(\"deviceProcessName\")\n",
    "IndexKey[\"act\"]=parseData.find(\"act\")\n",
    "IndexKey[\"src\"]=parseData.find(\"src\")\n",
    "IndexKey[\"dst\"]=parseData.find(\"dst\")\n",
    "IndexKey[\"spt\"]=parseData.find(\"spt\")\n",
    "IndexKey[\"dpt\"]=parseData.find(\"dpt\")\n",
    "IndexKey[\"deviceDirection\"]=parseData.find(\"deviceDirection\")\n",
    "IndexKey[\"cn1Label\"]=parseData.find(\"cn1Label\")\n",
    "IndexKey[\"cn1\"]=parseData.rfind(\"cn1\")\n",
    "IndexKey[\"cs2Label\"]=parseData.find(\"cs2Label\")\n",
    "IndexKey[\"cs2\"]=parseData.rfind(\"cs2\")\n",
    "IndexKey[\"dvchost\"]=parseData.find(\"dvchost\")\n",
    "IndexKey[\"reason\"]=parseData.find(\"reason\")\n"
   ]
  },
  {
   "cell_type": "code",
   "execution_count": 218,
   "id": "a72af2ec",
   "metadata": {},
   "outputs": [
    {
     "name": "stdout",
     "output_type": "stream",
     "text": [
      "{'deviceExternalId': 0, 'rt': 22, 'cat': 56, 'deviceFacility': 65, 'deviceProcessName': 89, 'act': 114, 'src': 124, 'dst': 142, 'spt': 160, 'dpt': 168, 'deviceDirection': 178, 'cn1Label': 202, 'cn1': 227, 'cs2Label': 233, 'cs2': 258, 'dvchost': 309, 'reason': 332}\n"
     ]
    }
   ],
   "source": [
    "print(IndexKey)\n",
    "Indexes = list(IndexKey.values())"
   ]
  },
  {
   "cell_type": "code",
   "execution_count": 219,
   "id": "44cee1fb",
   "metadata": {},
   "outputs": [
    {
     "name": "stdout",
     "output_type": "stream",
     "text": [
      "deviceExternalId=5352\n",
      "rt=Jul 14 2020 12:39:23 GMT+00:00\n",
      "cat=1756\n",
      "deviceFacility=Apex One\n",
      "deviceProcessName=System\n",
      "act=Block\n",
      "src=192.168.8.101\n",
      "dst=192.168.8.103\n",
      "spt=445\n",
      "dpt=52763\n",
      "deviceDirection=Inbound\n",
      "cn1Label=SLF_PatternType\n",
      "cn1=1\n",
      "cs2Label=NCIE_ThreatName\n",
      "cs2=MS17-010-SMB_REMOTE_CODE_EXECUTION_EXPLOIT_NC_\n",
      "dvchost=CU-PRO1-1867-2\n",
      "reason=F\n"
     ]
    }
   ],
   "source": [
    "for i in range(1,len(Indexes)):\n",
    "    print(parseData[Indexes[i-1]:Indexes[i]].strip())\n",
    "\n",
    "print(parseData[Indexes[-1]:])"
   ]
  },
  {
   "cell_type": "code",
   "execution_count": null,
   "id": "c397b29c",
   "metadata": {},
   "outputs": [],
   "source": []
  }
 ],
 "metadata": {
  "kernelspec": {
   "display_name": "Python 3",
   "language": "python",
   "name": "python3"
  },
  "language_info": {
   "codemirror_mode": {
    "name": "ipython",
    "version": 3
   },
   "file_extension": ".py",
   "mimetype": "text/x-python",
   "name": "python",
   "nbconvert_exporter": "python",
   "pygments_lexer": "ipython3",
   "version": "3.8.8"
  }
 },
 "nbformat": 4,
 "nbformat_minor": 5
}
